{
 "cells": [
  {
   "cell_type": "code",
   "execution_count": 1,
   "metadata": {
    "collapsed": false
   },
   "outputs": [],
   "source": [
    "import pandas as pd\n",
    "import numpy as np\n",
    "import pickle"
   ]
  },
  {
   "cell_type": "code",
   "execution_count": 2,
   "metadata": {
    "collapsed": false
   },
   "outputs": [],
   "source": [
    "import pickle\n",
    "f = open('../data/title.pickle','rb')\n",
    "title_list = pickle.load(f)\n",
    "f.close()\n",
    "title = np.array(title_list)"
   ]
  },
  {
   "cell_type": "markdown",
   "metadata": {},
   "source": [
    "### ratingの行列・辞書作成"
   ]
  },
  {
   "cell_type": "code",
   "execution_count": 3,
   "metadata": {
    "collapsed": false
   },
   "outputs": [],
   "source": [
    "rating_df = pd.read_csv('../data/u.data', sep='\\t',\n",
    "                        names=['user id', 'item id',\n",
    "                               'rating', 'timestamp'])\n",
    "id_rating = [[] for i in range(943)]\n",
    "for i in range(len(rating_df)):\n",
    "    id_rating[rating_df['user id'][i]-1]\\\n",
    "    += [(rating_df['item id'][i], rating_df['rating'][i])]\n",
    "\n",
    "# 各userのratingを一つずつtest用にする\n",
    "id_test_rating = [[] for i in range(943)]\n",
    "for i in range(len(id_rating)):\n",
    "    random_index = np.random.randint(len(id_rating[i]))\n",
    "    id_test_rating[i] = [id_rating[i][random_index]]\n",
    "    del id_rating[i][random_index]\n",
    "    \n",
    "id_rating_np = np.zeros((len(id_rating), 1682))\n",
    "for i in range(len(id_rating)):\n",
    "    for j in range(len(id_rating[i])):\n",
    "        id_rating_np[i-1][id_rating[i][j][0]-1] = id_rating[i][j][1]"
   ]
  },
  {
   "cell_type": "code",
   "execution_count": 4,
   "metadata": {
    "collapsed": false,
    "scrolled": true
   },
   "outputs": [],
   "source": [
    "# 各movie id が training に１つ以上入っていない場合エラーを出力\n",
    "I = id_rating_np > 0\n",
    "for i in range(len(I[0])):\n",
    "    assert I[:,i].sum() >= 1, 'test_split error'"
   ]
  },
  {
   "cell_type": "code",
   "execution_count": 5,
   "metadata": {
    "collapsed": false
   },
   "outputs": [],
   "source": [
    "rating_pair = {}\n",
    "for i in range(len(id_rating)):\n",
    "    for j in range(len(id_rating[i])):\n",
    "        rating_pair[(i+1, id_rating[i][j][0])] =\\\n",
    "        id_rating[i][j][1]"
   ]
  },
  {
   "cell_type": "code",
   "execution_count": 6,
   "metadata": {
    "collapsed": false
   },
   "outputs": [],
   "source": [
    "title_test_pair = [{} for i in range(943)]\n",
    "rating_test_pair = {}\n",
    "for i in range(len(id_test_rating)):\n",
    "    for j in range(len(id_test_rating[i])):\n",
    "        rating_test_pair[(i+1, id_test_rating[i][j][0])] =\\\n",
    "        id_test_rating[i][j][1]\n",
    "        title_test_pair[i][title[id_rating[i][j][0]-1]] =\\\n",
    "        id_rating[i][j][1]"
   ]
  },
  {
   "cell_type": "markdown",
   "metadata": {},
   "source": [
    "### 実装"
   ]
  },
  {
   "cell_type": "markdown",
   "metadata": {},
   "source": [
    "参考サイト\n",
    "http://www.grappa.univ-lille3.fr/~mary/cours/stats/centrale/reco/paper/MatrixFactorizationALS.pdf"
   ]
  },
  {
   "cell_type": "code",
   "execution_count": 8,
   "metadata": {
    "collapsed": false
   },
   "outputs": [
    {
     "name": "stdout",
     "output_type": "stream",
     "text": [
      "CPU times: user 6 µs, sys: 1 µs, total: 7 µs\n",
      "Wall time: 14.1 µs\n",
      "epoch :   1, loss : 0.9154756, test_loss : 1.1948953\n",
      "epoch :   2, loss : 0.8413301, test_loss : 1.2474239\n",
      "epoch :   3, loss : 0.8199498, test_loss : 1.2867644\n",
      "epoch :   4, loss : 0.8105117, test_loss : 1.3111826\n",
      "epoch :   5, loss : 0.8051103, test_loss : 1.3270330\n"
     ]
    }
   ],
   "source": [
    "%time\n",
    "# 条件設定\n",
    "epochs = 5\n",
    "noize_rate = 0.01\n",
    "common_len = 5\n",
    "\n",
    "# 初期値設定\n",
    "u_len, m_len = id_rating_np.shape\n",
    "I = id_rating_np > 0\n",
    "u = np.random.uniform(0, 5, u_len*common_len).reshape(u_len, common_len)\n",
    "m = np.random.uniform(0, 5, m_len*common_len).reshape(common_len, m_len)\n",
    "\n",
    "training_len = len(rating_pair)\n",
    "test_len = len(rating_test_pair)\n",
    "\n",
    "# training\n",
    "for epoch in range(epochs):\n",
    "    for i in range(u_len):\n",
    "        u[i] = np.dot(np.linalg.inv(np.dot(m[:,I[i]],\n",
    "                                           m[:,I[i]].T) +\n",
    "                                    noize_rate*sum(I[i])*np.eye(common_len)),\n",
    "                      np.dot(m[:,I[i]],id_rating_np[i,I[i]].T)).T\n",
    "\n",
    "    for j in range(m_len):\n",
    "        m[:,j] = np.dot(np.linalg.inv(np.dot(u[I[:,j]].T,\n",
    "                                             u[I[:,j]]) +\n",
    "                                      noize_rate*sum(I[:,j])*np.eye(common_len)),\n",
    "                        np.dot(u[I[:,j]].T,id_rating_np[I[:,j],j]))\n",
    "    \n",
    "    # predict\n",
    "    pred = np.dot(u, m)\n",
    "\n",
    "    # rmse\n",
    "    loss = np.sqrt(np.sum((I * (id_rating_np - pred))**2)/training_len)\n",
    "\n",
    "    # test_loss\n",
    "    test_loss = 0\n",
    "    for pair in rating_test_pair:\n",
    "        true_rating = rating_test_pair[pair]\n",
    "        test_loss += ((true_rating-pred[pair[0]-1]\n",
    "                       [pair[1]-1])**2)/test_len\n",
    "\n",
    "    print('epoch : {0:>3}, loss : {1:.7f}, test_loss : {2:.7f}'\n",
    "          .format(epoch+1, loss, np.sqrt(test_loss)))"
   ]
  },
  {
   "cell_type": "code",
   "execution_count": 9,
   "metadata": {
    "collapsed": false
   },
   "outputs": [
    {
     "name": "stdout",
     "output_type": "stream",
     "text": [
      "true_rating :  3, predict_rating : 4.163\n",
      "true_rating :  5, predict_rating : 2.873\n",
      "true_rating :  4, predict_rating : 2.001\n",
      "true_rating :  3, predict_rating : 3.668\n",
      "true_rating :  2, predict_rating : 4.137\n",
      "true_rating :  4, predict_rating : 3.538\n",
      "true_rating :  3, predict_rating : 3.523\n",
      "true_rating :  4, predict_rating : 2.909\n",
      "true_rating :  2, predict_rating : 1.526\n",
      "true_rating :  4, predict_rating : 3.642\n",
      "true_rating :  3, predict_rating : 3.677\n",
      "true_rating :  4, predict_rating : 3.981\n",
      "true_rating :  4, predict_rating : 3.210\n",
      "true_rating :  5, predict_rating : 3.929\n",
      "true_rating :  4, predict_rating : 3.859\n"
     ]
    }
   ],
   "source": [
    "for pair in list(rating_test_pair.keys())[:15]:\n",
    "    true_rating = rating_test_pair[pair]\n",
    "    print('true_rating : {0:>2}, predict_rating : {1:.3f}'\n",
    "          .format(true_rating, pred[pair[0]-1][pair[1]-1]))"
   ]
  },
  {
   "cell_type": "markdown",
   "metadata": {},
   "source": [
    "### training_dataに含まれていないオススメの映画を3つ表示"
   ]
  },
  {
   "cell_type": "code",
   "execution_count": 10,
   "metadata": {
    "collapsed": false
   },
   "outputs": [
    {
     "name": "stdout",
     "output_type": "stream",
     "text": [
      "user : 1\n",
      "\n",
      "test : {'Grand Day Out, A (1992)': 3}\n",
      "recommend : ['Angel Baby (1995)' 'Santa with Muscles (1996)'\n",
      " 'Little Princess, The (1939)']\n",
      "\n",
      "user : 2\n",
      "\n",
      "test : {'Rosewood (1997)': 4}\n",
      "recommend : ['Angel Baby (1995)' 'Stalker (1979)' 'Killer (Bulletproof Heart) (1994)']\n",
      "\n",
      "user : 3\n",
      "\n",
      "test : {'How to Be a Player (1997)': 1}\n",
      "recommend : [ 'Old Lady Who Walked in the Sea, The (Vieille qui marchait dans la mer, La) (1991)'\n",
      " '8 Seconds (1994)' 'Stalker (1979)']\n",
      "\n",
      "user : 4\n",
      "\n",
      "test : {'Mimic (1997)': 3}\n",
      "recommend : ['Hurricane Streets (1998)' 'Little City (1998)' 'Angel Baby (1995)']\n",
      "\n",
      "user : 5\n",
      "\n",
      "test : {'GoldenEye (1995)': 3}\n",
      "recommend : ['Ciao, Professore! (1993)' 'Incognito (1997)' \"Boy's Life 2 (1997)\"]\n",
      "\n"
     ]
    }
   ],
   "source": [
    "for i in range(5):\n",
    "    print('user : {0}\\n'.format(i+1))\n",
    "    pred_index = np.delete(np.arange(m_len),\n",
    "                           np.array(id_rating[i])[:,0]-1)\n",
    "    print('test : {0}\\nrecommend : {1}\\n'\n",
    "          .format(title_test_pair[i],\n",
    "                  title[pred_index[pred[i][pred_index].argsort()[:-4:-1]]]))"
   ]
  },
  {
   "cell_type": "markdown",
   "metadata": {
    "collapsed": true
   },
   "source": [
    "一応test用のデータを表示しましたが、評価が高くないものに対しては参考にならないです。<br>\n",
    "評価が高いものについても、疎行列のためうまくrecommendできていないようです。"
   ]
  }
 ],
 "metadata": {
  "anaconda-cloud": {},
  "kernelspec": {
   "display_name": "Python [default]",
   "language": "python",
   "name": "python3"
  },
  "language_info": {
   "codemirror_mode": {
    "name": "ipython",
    "version": 3
   },
   "file_extension": ".py",
   "mimetype": "text/x-python",
   "name": "python",
   "nbconvert_exporter": "python",
   "pygments_lexer": "ipython3",
   "version": "3.5.2"
  }
 },
 "nbformat": 4,
 "nbformat_minor": 2
}

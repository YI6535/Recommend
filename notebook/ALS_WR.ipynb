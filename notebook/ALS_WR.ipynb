{
 "cells": [
  {
   "cell_type": "markdown",
   "metadata": {},
   "source": [
    "## ALS_WRを用いた推定"
   ]
  },
  {
   "cell_type": "code",
   "execution_count": 1,
   "metadata": {
    "collapsed": false
   },
   "outputs": [],
   "source": [
    "import pandas as pd\n",
    "import numpy as np\n",
    "import pickle"
   ]
  },
  {
   "cell_type": "code",
   "execution_count": 2,
   "metadata": {
    "collapsed": false
   },
   "outputs": [],
   "source": [
    "import pickle\n",
    "f = open('../data/title.pickle','rb')\n",
    "title_list = pickle.load(f)\n",
    "f.close()\n",
    "title = np.array(title_list)"
   ]
  },
  {
   "cell_type": "markdown",
   "metadata": {},
   "source": [
    "### ratingの行列・辞書作成"
   ]
  },
  {
   "cell_type": "code",
   "execution_count": 3,
   "metadata": {
    "collapsed": false
   },
   "outputs": [],
   "source": [
    "rating_df = pd.read_csv('../data/u.data', sep='\\t',\n",
    "                        names=['user id', 'item id',\n",
    "                               'rating', 'timestamp'])\n",
    "id_rating = [[] for i in range(943)]\n",
    "for i in range(len(rating_df)):\n",
    "    id_rating[rating_df['user id'][i]-1]\\\n",
    "    += [(rating_df['item id'][i], rating_df['rating'][i])]\n",
    "\n",
    "# 各userのratingを一つずつtest用にする\n",
    "id_test_rating = [[] for i in range(943)]\n",
    "for i in range(len(id_rating)):\n",
    "    random_index = np.random.randint(len(id_rating[i]))\n",
    "    id_test_rating[i] = [id_rating[i][random_index]]\n",
    "    del id_rating[i][random_index]\n",
    "    \n",
    "id_rating_np = np.zeros((len(id_rating), 1682))\n",
    "for i in range(len(id_rating)):\n",
    "    for j in range(len(id_rating[i])):\n",
    "        id_rating_np[i-1][id_rating[i][j][0]-1] = id_rating[i][j][1]"
   ]
  },
  {
   "cell_type": "code",
   "execution_count": 4,
   "metadata": {
    "collapsed": false,
    "scrolled": true
   },
   "outputs": [],
   "source": [
    "# 各movie id が training に１つ以上入っていない場合エラーを出力\n",
    "I = id_rating_np > 0\n",
    "for i in range(len(I[0])):\n",
    "    assert I[:,i].sum() >= 1, 'test_split error'"
   ]
  },
  {
   "cell_type": "code",
   "execution_count": 5,
   "metadata": {
    "collapsed": false
   },
   "outputs": [],
   "source": [
    "rating_pair = {}\n",
    "for i in range(len(id_rating)):\n",
    "    for j in range(len(id_rating[i])):\n",
    "        rating_pair[(i+1, id_rating[i][j][0])] =\\\n",
    "        id_rating[i][j][1]"
   ]
  },
  {
   "cell_type": "code",
   "execution_count": 6,
   "metadata": {
    "collapsed": false
   },
   "outputs": [],
   "source": [
    "title_test_pair = [{} for i in range(943)]\n",
    "rating_test_pair = {}\n",
    "for i in range(len(id_test_rating)):\n",
    "    for j in range(len(id_test_rating[i])):\n",
    "        rating_test_pair[(i+1, id_test_rating[i][j][0])] =\\\n",
    "        id_test_rating[i][j][1]\n",
    "        title_test_pair[i][title[id_rating[i][j][0]-1]] =\\\n",
    "        id_rating[i][j][1]"
   ]
  },
  {
   "cell_type": "markdown",
   "metadata": {},
   "source": [
    "### 実装"
   ]
  },
  {
   "cell_type": "markdown",
   "metadata": {},
   "source": [
    "参考サイト\n",
    "http://www.grappa.univ-lille3.fr/~mary/cours/stats/centrale/reco/paper/MatrixFactorizationALS.pdf"
   ]
  },
  {
   "cell_type": "code",
   "execution_count": 7,
   "metadata": {
    "collapsed": false
   },
   "outputs": [
    {
     "name": "stdout",
     "output_type": "stream",
     "text": [
      "CPU times: user 3 µs, sys: 1 µs, total: 4 µs\n",
      "Wall time: 7.15 µs\n",
      "epoch :   1, loss : 0.9528019, test_loss : 1.1845386\n",
      "epoch :   2, loss : 0.8794842, test_loss : 1.1975379\n",
      "epoch :   3, loss : 0.8542239, test_loss : 1.1904117\n",
      "epoch :   4, loss : 0.8428345, test_loss : 1.1887213\n",
      "epoch :   5, loss : 0.8351463, test_loss : 1.1886822\n"
     ]
    }
   ],
   "source": [
    "%time\n",
    "# 条件設定\n",
    "epochs = 5\n",
    "noize_rate = 0.01\n",
    "common_len = 5\n",
    "\n",
    "# 初期値設定\n",
    "u_len, m_len = id_rating_np.shape\n",
    "I = id_rating_np > 0\n",
    "u = np.empty((u_len, common_len))\n",
    "m = np.random.uniform(0, 5, m_len*common_len).reshape(common_len, m_len)\n",
    "m[0] = np.sum(id_rating_np,axis=0)/np.sum(I,axis=0)\n",
    "training_len = len(rating_pair)\n",
    "test_len = len(rating_test_pair)\n",
    "\n",
    "# training\n",
    "for epoch in range(epochs):\n",
    "    for i in range(u_len):\n",
    "        u[i] = np.dot(np.linalg.inv(np.dot(m[:,I[i]],\n",
    "                                           m[:,I[i]].T) +\n",
    "                                    noize_rate*sum(I[i])*np.eye(common_len)),\n",
    "                      np.dot(m[:,I[i]],id_rating_np[i,I[i]].T)).T\n",
    "    u[u<0] = 0\n",
    "    for j in range(m_len):\n",
    "        m[:,j] = np.dot(np.linalg.inv(np.dot(u[I[:,j]].T,\n",
    "                                             u[I[:,j]]) +\n",
    "                                      noize_rate*sum(I[:,j])*np.eye(common_len)),\n",
    "                        np.dot(u[I[:,j]].T,id_rating_np[I[:,j],j]))\n",
    "    m[m<0] = 0\n",
    "    # predict\n",
    "    pred = np.dot(u, m)\n",
    "\n",
    "    # rmse\n",
    "    loss = np.sqrt(np.sum((I * (id_rating_np - pred))**2)/training_len)\n",
    "\n",
    "    # test_loss\n",
    "    test_loss = 0\n",
    "    for pair in rating_test_pair:\n",
    "        true_rating = rating_test_pair[pair]\n",
    "        test_loss += ((true_rating-pred[pair[0]-1]\n",
    "                       [pair[1]-1])**2)/test_len\n",
    "\n",
    "    print('epoch : {0:>3}, loss : {1:.7f}, test_loss : {2:.7f}'\n",
    "          .format(epoch+1, loss, np.sqrt(test_loss)))"
   ]
  },
  {
   "cell_type": "code",
   "execution_count": 8,
   "metadata": {
    "collapsed": false
   },
   "outputs": [
    {
     "name": "stdout",
     "output_type": "stream",
     "text": [
      "true_rating :  5, predict_rating : 3.226\n",
      "true_rating :  5, predict_rating : 0.861\n",
      "true_rating :  3, predict_rating : 3.826\n",
      "true_rating :  5, predict_rating : 3.650\n",
      "true_rating :  2, predict_rating : 3.203\n",
      "true_rating :  4, predict_rating : 4.023\n",
      "true_rating :  3, predict_rating : 2.327\n",
      "true_rating :  5, predict_rating : 2.430\n",
      "true_rating :  4, predict_rating : 4.160\n",
      "true_rating :  1, predict_rating : 2.627\n",
      "true_rating :  4, predict_rating : 4.403\n",
      "true_rating :  1, predict_rating : 4.012\n",
      "true_rating :  1, predict_rating : 1.641\n",
      "true_rating :  4, predict_rating : 3.477\n",
      "true_rating :  4, predict_rating : 2.918\n"
     ]
    }
   ],
   "source": [
    "for pair in list(rating_test_pair.keys())[:15]:\n",
    "    true_rating = rating_test_pair[pair]\n",
    "    print('true_rating : {0:>2}, predict_rating : {1:.3f}'\n",
    "          .format(true_rating, pred[pair[0]-1][pair[1]-1]))"
   ]
  },
  {
   "cell_type": "markdown",
   "metadata": {},
   "source": [
    "### training_dataに含まれていないオススメの映画を3つ表示"
   ]
  },
  {
   "cell_type": "code",
   "execution_count": 9,
   "metadata": {
    "collapsed": false
   },
   "outputs": [
    {
     "name": "stdout",
     "output_type": "stream",
     "text": [
      "user : 1\n",
      "\n",
      "test : {'Three Colors: White (1994)': 4}\n",
      "recommend : ['American Dream (1990)' 'Leading Man, The (1996)' 'Mina Tannenbaum (1994)']\n",
      "\n",
      "user : 2\n",
      "\n",
      "test : {'Rosewood (1997)': 4}\n",
      "recommend : ['Angel Baby (1995)' 'American Dream (1990)' 'Hearts and Minds (1996)']\n",
      "\n",
      "user : 3\n",
      "\n",
      "test : {'How to Be a Player (1997)': 1}\n",
      "recommend : ['Leading Man, The (1996)' 'Swept from the Sea (1997)' 'Hugo Pool (1997)']\n",
      "\n",
      "user : 4\n",
      "\n",
      "test : {'Mimic (1997)': 3}\n",
      "recommend : ['American Dream (1990)' 'Angel Baby (1995)' 'Leading Man, The (1996)']\n",
      "\n",
      "user : 5\n",
      "\n",
      "test : {'GoldenEye (1995)': 3}\n",
      "recommend : ['American Dream (1990)' 'Angel Baby (1995)' 'Leading Man, The (1996)']\n",
      "\n"
     ]
    }
   ],
   "source": [
    "for i in range(5):\n",
    "    print('user : {0}\\n'.format(i+1))\n",
    "    pred_index = np.delete(np.arange(m_len),\n",
    "                           np.array(id_rating[i])[:,0]-1)\n",
    "    print('test : {0}\\nrecommend : {1}\\n'\n",
    "          .format(title_test_pair[i],\n",
    "                  title[pred_index[pred[i][pred_index].argsort()[:-4:-1]]]))"
   ]
  },
  {
   "cell_type": "markdown",
   "metadata": {
    "collapsed": true
   },
   "source": [
    "一応test用のデータを表示しましたが、評価が高くないものに対しては参考にならないです。<br>\n",
    "評価が高いものについても、疎行列のためうまくrecommendできていないようです。"
   ]
  }
 ],
 "metadata": {
  "anaconda-cloud": {},
  "kernelspec": {
   "display_name": "Python [default]",
   "language": "python",
   "name": "python3"
  },
  "language_info": {
   "codemirror_mode": {
    "name": "ipython",
    "version": 3
   },
   "file_extension": ".py",
   "mimetype": "text/x-python",
   "name": "python",
   "nbconvert_exporter": "python",
   "pygments_lexer": "ipython3",
   "version": "3.5.2"
  }
 },
 "nbformat": 4,
 "nbformat_minor": 2
}

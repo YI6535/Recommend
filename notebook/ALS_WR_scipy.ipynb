{
 "cells": [
  {
   "cell_type": "markdown",
   "metadata": {},
   "source": [
    "## ALS_WRをscipyのスパース行列を用いて計算"
   ]
  },
  {
   "cell_type": "code",
   "execution_count": 1,
   "metadata": {
    "collapsed": false
   },
   "outputs": [],
   "source": [
    "import pandas as pd\n",
    "import numpy as np\n",
    "from scipy import sparse\n",
    "import pickle\n",
    "from scipy.sparse import linalg, lil_matrix, csr_matrix"
   ]
  },
  {
   "cell_type": "code",
   "execution_count": 2,
   "metadata": {
    "collapsed": false
   },
   "outputs": [],
   "source": [
    "f = open('../data/title.pickle','rb')\n",
    "title_list = pickle.load(f)\n",
    "f.close()\n",
    "title = np.array(title_list)"
   ]
  },
  {
   "cell_type": "markdown",
   "metadata": {},
   "source": [
    "### ratingの行列・辞書作成"
   ]
  },
  {
   "cell_type": "code",
   "execution_count": 5,
   "metadata": {
    "collapsed": false
   },
   "outputs": [],
   "source": [
    "rating_df = pd.read_csv('../data/u.data', sep='\\t',\n",
    "                        names=['user id', 'item id',\n",
    "                               'rating', 'timestamp'])\n",
    "id_rating = [[] for i in range(943)]\n",
    "for i in range(len(rating_df)):\n",
    "    id_rating[rating_df['user id'][i]-1]\\\n",
    "    += [(rating_df['item id'][i], rating_df['rating'][i])]\n",
    "\n",
    "# 各userのratingを一つずつtest用にする\n",
    "id_test_rating = [[] for i in range(943)]\n",
    "for i in range(len(id_rating)):\n",
    "    random_index = np.random.randint(len(id_rating[i]))\n",
    "    id_test_rating[i] = [id_rating[i][random_index]]\n",
    "    del id_rating[i][random_index]\n",
    "    \n",
    "id_rating_np = np.zeros((len(id_rating), 1682))\n",
    "for i in range(len(id_rating)):\n",
    "    for j in range(len(id_rating[i])):\n",
    "        id_rating_np[i-1][id_rating[i][j][0]-1] = id_rating[i][j][1]"
   ]
  },
  {
   "cell_type": "code",
   "execution_count": 6,
   "metadata": {
    "collapsed": false
   },
   "outputs": [],
   "source": [
    "# 各movie id が training に１つ以上入っていない場合エラーを出力\n",
    "I = id_rating_np > 0\n",
    "for i in range(len(I[0])):\n",
    "    assert I[:,i].sum() >= 1, 'test_split error'\n",
    "id_rating_lil = lil_matrix(id_rating_np)\n",
    "means = np.sum(id_rating_np,axis=0)\n",
    "del id_rating_np"
   ]
  },
  {
   "cell_type": "code",
   "execution_count": 7,
   "metadata": {
    "collapsed": false
   },
   "outputs": [],
   "source": [
    "rating_pair = {}\n",
    "for i in range(len(id_rating)):\n",
    "    for j in range(len(id_rating[i])):\n",
    "        rating_pair[(i+1, id_rating[i][j][0])] =\\\n",
    "        id_rating[i][j][1]"
   ]
  },
  {
   "cell_type": "code",
   "execution_count": 8,
   "metadata": {
    "collapsed": false
   },
   "outputs": [],
   "source": [
    "title_test_pair = [{} for i in range(943)]\n",
    "rating_test_pair = {}\n",
    "for i in range(len(id_test_rating)):\n",
    "    for j in range(len(id_test_rating[i])):\n",
    "        rating_test_pair[(i+1, id_test_rating[i][j][0])] =\\\n",
    "        id_test_rating[i][j][1]\n",
    "        title_test_pair[i][title[id_rating[i][j][0]-1]] =\\\n",
    "        id_rating[i][j][1]"
   ]
  },
  {
   "cell_type": "markdown",
   "metadata": {},
   "source": [
    "### 実装"
   ]
  },
  {
   "cell_type": "markdown",
   "metadata": {},
   "source": [
    "\n",
    "参考サイト\n",
    "http://www.grappa.univ-lille3.fr/~mary/cours/stats/centrale/reco/paper/MatrixFactorizationALS.pdf"
   ]
  },
  {
   "cell_type": "code",
   "execution_count": 9,
   "metadata": {
    "collapsed": false
   },
   "outputs": [
    {
     "name": "stdout",
     "output_type": "stream",
     "text": [
      "epoch :   1, loss : 0.9483107, test_loss : 1.1932542\n",
      "epoch :   2, loss : 0.8787829, test_loss : 1.1864367\n",
      "epoch :   3, loss : 0.8565444, test_loss : 1.2145030\n",
      "epoch :   4, loss : 0.8442368, test_loss : 1.2296342\n",
      "epoch :   5, loss : 0.8353003, test_loss : 1.2371385\n"
     ]
    }
   ],
   "source": [
    "# 条件設定\n",
    "epochs = 5\n",
    "noize_rate = 0.01\n",
    "common_len = 5\n",
    "\n",
    "# 初期値設定\n",
    "u_len, m_len = id_rating_lil.shape\n",
    "I = id_rating_lil > 0\n",
    "u = np.empty((u_len, common_len))\n",
    "m = np.random.uniform(0, 5, m_len*common_len).reshape(common_len, m_len)\n",
    "m[0] = means/np.sum(I,axis=0)\n",
    "\n",
    "training_len = len(rating_pair)\n",
    "test_len = len(rating_test_pair)\n",
    "\n",
    "for epoch in range(epochs):\n",
    "    # training\n",
    "    for i in range(u_len):\n",
    "            I_i = np.array(I.getrow(i).todense())[0]\n",
    "            u[i] = np.dot(np.linalg.inv(np.dot(m[:, I_i],m[:, I_i].T) +\n",
    "                               noize_rate * I[i].sum() *\n",
    "                               np.eye(common_len)),\n",
    "                np.dot(m[:, I_i],id_rating_lil[i, I_i].transpose().todense())).transpose()\n",
    "    u[u<0] = 0\n",
    "    for j in range(m_len):\n",
    "            I_j = np.array(I.transpose().getrow(j).todense())[0]\n",
    "            m[:, j] = np.squeeze(np.array(np.dot(np.linalg.inv(np.dot(u[I_j].T,u[I_j]) +\n",
    "                                  noize_rate * I[:, j].sum() *\n",
    "                                  np.eye(common_len)),\n",
    "                np.dot(u[I_j].transpose(),id_rating_lil[I_j, j].todense()))))\n",
    "    m[m<0] = 0    \n",
    "    # predict\n",
    "    pred = np.dot(u, m)\n",
    "\n",
    "    # rmse\n",
    "    loss = np.sqrt((np.power((id_rating_lil - pred)[np.array(I.todense())]\n",
    "                             , 2).sum() / training_len))\n",
    "\n",
    "    # test_loss\n",
    "    test_loss = 0\n",
    "    for pair in rating_test_pair:\n",
    "        true_rating = rating_test_pair[pair]\n",
    "        test_loss += ((true_rating -\n",
    "                       pred[pair[0] - 1, pair[1] - 1])**2) / test_len\n",
    "\n",
    "    print('epoch : {0:>3}, loss : {1:.7f}, test_loss : {2:.7f}'\n",
    "              .format(epoch + 1, loss, np.sqrt(float(test_loss))))"
   ]
  },
  {
   "cell_type": "code",
   "execution_count": 10,
   "metadata": {
    "collapsed": false,
    "scrolled": true
   },
   "outputs": [
    {
     "name": "stdout",
     "output_type": "stream",
     "text": [
      "true_rating :  2, predict_rating : 2.743\n",
      "true_rating :  4, predict_rating : 3.634\n",
      "true_rating :  4, predict_rating : 3.200\n",
      "true_rating :  2, predict_rating : 3.460\n",
      "true_rating :  4, predict_rating : 4.072\n",
      "true_rating :  3, predict_rating : 3.587\n",
      "true_rating :  4, predict_rating : 3.069\n",
      "true_rating :  3, predict_rating : 3.671\n",
      "true_rating :  5, predict_rating : 5.245\n",
      "true_rating :  3, predict_rating : 4.024\n",
      "true_rating :  3, predict_rating : 2.054\n",
      "true_rating :  5, predict_rating : 3.584\n",
      "true_rating :  4, predict_rating : 3.741\n",
      "true_rating :  5, predict_rating : 4.140\n",
      "true_rating :  2, predict_rating : 2.953\n"
     ]
    }
   ],
   "source": [
    "for pair in list(rating_test_pair.keys())[:15]:\n",
    "    true_rating = rating_test_pair[pair]\n",
    "    print('true_rating : {0:>2}, predict_rating : {1:.3f}'\n",
    "          .format(true_rating, pred[pair[0]-1,pair[1]-1]))"
   ]
  },
  {
   "cell_type": "markdown",
   "metadata": {},
   "source": [
    "### u, mの保存"
   ]
  },
  {
   "cell_type": "code",
   "execution_count": 9,
   "metadata": {
    "collapsed": false
   },
   "outputs": [],
   "source": [
    "sparse.save_npz(\"output/u.npz\",u)\n",
    "sparse.save_npz(\"output/m.npz\",m)"
   ]
  }
 ],
 "metadata": {
  "anaconda-cloud": {},
  "kernelspec": {
   "display_name": "Python [default]",
   "language": "python",
   "name": "python3"
  }
 },
 "nbformat": 4,
 "nbformat_minor": 2
}

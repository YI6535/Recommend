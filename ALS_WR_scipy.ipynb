{
 "cells": [
  {
   "cell_type": "code",
   "execution_count": 1,
   "metadata": {
    "collapsed": false
   },
   "outputs": [],
   "source": [
    "import pandas as pd\n",
    "import numpy as np\n",
    "from scipy import sparse\n",
    "import pickle\n",
    "from scipy.sparse import linalg, lil_matrix, csr_matrix"
   ]
  },
  {
   "cell_type": "code",
   "execution_count": 2,
   "metadata": {
    "collapsed": false
   },
   "outputs": [],
   "source": [
    "f = open('data/title.pickle','rb')\n",
    "title_list = pickle.load(f)\n",
    "f.close()\n",
    "title = np.array(title_list)"
   ]
  },
  {
   "cell_type": "markdown",
   "metadata": {},
   "source": [
    "### ratingの行列・辞書作成"
   ]
  },
  {
   "cell_type": "code",
   "execution_count": 3,
   "metadata": {
    "collapsed": false
   },
   "outputs": [],
   "source": [
    "rating_df = pd.read_csv('data/u.data', sep='\\t',\n",
    "                        names=['user id', 'item id',\n",
    "                               'rating', 'timestamp'])\n",
    "id_rating = [[] for i in range(943)]\n",
    "for i in range(len(rating_df)):\n",
    "    id_rating[rating_df['user id'][i]-1]\\\n",
    "    += [(rating_df['item id'][i], rating_df['rating'][i])]\n",
    "\n",
    "# 各userのratingを一つずつtest用にする\n",
    "id_test_rating = [[] for i in range(943)]\n",
    "for i in range(len(id_rating)):\n",
    "    random_index = np.random.randint(len(id_rating[i]))\n",
    "    id_test_rating[i] = [id_rating[i][random_index]]\n",
    "    del id_rating[i][random_index]\n",
    "    \n",
    "id_rating_np = np.zeros((len(id_rating), 1682))\n",
    "for i in range(len(id_rating)):\n",
    "    for j in range(len(id_rating[i])):\n",
    "        id_rating_np[i-1][id_rating[i][j][0]-1] = id_rating[i][j][1]"
   ]
  },
  {
   "cell_type": "code",
   "execution_count": 4,
   "metadata": {
    "collapsed": false
   },
   "outputs": [],
   "source": [
    "# 各movie id が training に１つ以上入っていない場合エラーを出力\n",
    "I = id_rating_np > 0\n",
    "for i in range(len(I[0])):\n",
    "    assert I[:,i].sum() >= 1, 'test_split error'\n",
    "id_rating_lil = lil_matrix(id_rating_np)\n",
    "del id_rating_np"
   ]
  },
  {
   "cell_type": "code",
   "execution_count": 5,
   "metadata": {
    "collapsed": false
   },
   "outputs": [],
   "source": [
    "rating_pair = {}\n",
    "for i in range(len(id_rating)):\n",
    "    for j in range(len(id_rating[i])):\n",
    "        rating_pair[(i+1, id_rating[i][j][0])] =\\\n",
    "        id_rating[i][j][1]"
   ]
  },
  {
   "cell_type": "code",
   "execution_count": 6,
   "metadata": {
    "collapsed": false
   },
   "outputs": [],
   "source": [
    "title_test_pair = [{} for i in range(943)]\n",
    "rating_test_pair = {}\n",
    "for i in range(len(id_test_rating)):\n",
    "    for j in range(len(id_test_rating[i])):\n",
    "        rating_test_pair[(i+1, id_test_rating[i][j][0])] =\\\n",
    "        id_test_rating[i][j][1]\n",
    "        title_test_pair[i][title[id_rating[i][j][0]-1]] =\\\n",
    "        id_rating[i][j][1]"
   ]
  },
  {
   "cell_type": "markdown",
   "metadata": {},
   "source": [
    "### 実装"
   ]
  },
  {
   "cell_type": "markdown",
   "metadata": {},
   "source": [
    "\n",
    "参考サイト\n",
    "http://www.grappa.univ-lille3.fr/~mary/cours/stats/centrale/reco/paper/MatrixFactorizationALS.pdf"
   ]
  },
  {
   "cell_type": "code",
   "execution_count": 7,
   "metadata": {
    "collapsed": false
   },
   "outputs": [
    {
     "name": "stdout",
     "output_type": "stream",
     "text": [
      "epoch :   1, loss : 0.9170484, test_loss : 1.1764875\n",
      "epoch :   2, loss : 0.8485681, test_loss : 1.2464507\n",
      "epoch :   3, loss : 0.8257378, test_loss : 1.3016431\n",
      "epoch :   4, loss : 0.8140628, test_loss : 1.3180568\n",
      "epoch :   5, loss : 0.8078590, test_loss : 1.3107776\n"
     ]
    }
   ],
   "source": [
    "# 条件設定\n",
    "epochs = 5\n",
    "noize_rate = 0.01\n",
    "common_len = 5\n",
    "\n",
    "# 初期値設定\n",
    "u_len, m_len = id_rating_lil.shape\n",
    "I = id_rating_lil > 0\n",
    "u = np.random.uniform(0, 5, u_len*common_len).reshape(u_len, common_len)\n",
    "m = np.random.uniform(0, 5, m_len*common_len).reshape(common_len, m_len)\n",
    "u = lil_matrix(u).tocsr()\n",
    "m = lil_matrix(m).tocsc()\n",
    "training_len = len(rating_pair)\n",
    "test_len = len(rating_test_pair)\n",
    "\n",
    "# training\n",
    "for epoch in range(epochs):\n",
    "    for i in range(u_len):\n",
    "        I_i = np.array(I.getrow(i).todense())[0]\n",
    "        u[i] = (linalg.inv(m[:,I_i].dot(m[:,I_i].T)+\n",
    "                                  noize_rate*I[i].sum()*\n",
    "                                  sparse.eye(common_len))).dot(\n",
    "            m[:,I_i].dot(id_rating_lil[i,I_i].transpose())).transpose()\n",
    "\n",
    "    for j in range(m_len):\n",
    "        I_j = np.array(I.transpose().getrow(j).todense())[0]\n",
    "        m[:,j] = (linalg.inv(u[I_j].T.dot(u[I_j]) +\n",
    "                                      noize_rate*I[:,j].sum()*\n",
    "                                    sparse.eye(common_len))).dot(\n",
    "                        u[I_j].transpose().dot(id_rating_lil[I_j,j]).todense())\n",
    "    # predict\n",
    "    pred = u.dot(m)\n",
    "    \n",
    "    # rmse\n",
    "    loss = np.sqrt((np.power((id_rating_lil - pred)[I],2)).sum()/training_len)\n",
    "\n",
    "    # test_loss\n",
    "    test_loss = 0\n",
    "    for pair in rating_test_pair:\n",
    "        true_rating = rating_test_pair[pair]\n",
    "        test_loss += ((true_rating-pred[pair[0]-1,pair[1]-1])**2)/test_len\n",
    "\n",
    "    print('epoch : {0:>3}, loss : {1:.7f}, test_loss : {2:.7f}'\\\n",
    "          .format(epoch+1, loss, np.sqrt(float(test_loss))))"
   ]
  },
  {
   "cell_type": "code",
   "execution_count": 8,
   "metadata": {
    "collapsed": false,
    "scrolled": true
   },
   "outputs": [
    {
     "name": "stdout",
     "output_type": "stream",
     "text": [
      "true_rating :  3, predict_rating : 3.865\n",
      "true_rating :  3, predict_rating : 3.641\n",
      "true_rating :  1, predict_rating : 1.392\n",
      "true_rating :  4, predict_rating : 4.059\n",
      "true_rating :  3, predict_rating : 3.272\n",
      "true_rating :  4, predict_rating : 4.029\n",
      "true_rating :  2, predict_rating : 2.936\n",
      "true_rating :  4, predict_rating : 3.726\n",
      "true_rating :  4, predict_rating : 3.888\n",
      "true_rating :  1, predict_rating : 3.223\n",
      "true_rating :  2, predict_rating : 2.417\n",
      "true_rating :  4, predict_rating : 2.894\n",
      "true_rating :  4, predict_rating : 3.998\n",
      "true_rating :  3, predict_rating : 3.709\n",
      "true_rating :  5, predict_rating : 2.588\n"
     ]
    }
   ],
   "source": [
    "for pair in list(rating_test_pair.keys())[:15]:\n",
    "    true_rating = rating_test_pair[pair]\n",
    "    print('true_rating : {0:>2}, predict_rating : {1:.3f}'\n",
    "          .format(true_rating, pred[pair[0]-1,pair[1]-1]))"
   ]
  },
  {
   "cell_type": "markdown",
   "metadata": {},
   "source": [
    "### u, mの保存"
   ]
  },
  {
   "cell_type": "code",
   "execution_count": 9,
   "metadata": {
    "collapsed": false
   },
   "outputs": [],
   "source": [
    "sparse.save_npz(\"output/u.npz\",u)\n",
    "sparse.save_npz(\"output/m.npz\",m)"
   ]
  }
 ],
 "metadata": {
  "anaconda-cloud": {},
  "kernelspec": {
   "display_name": "Python [default]",
   "language": "python",
   "name": "python3"
  },
  "language_info": {
   "codemirror_mode": {
    "name": "ipython",
    "version": 3
   },
   "file_extension": ".py",
   "mimetype": "text/x-python",
   "name": "python",
   "nbconvert_exporter": "python",
   "pygments_lexer": "ipython3",
   "version": "3.5.2"
  }
 },
 "nbformat": 4,
 "nbformat_minor": 2
}
